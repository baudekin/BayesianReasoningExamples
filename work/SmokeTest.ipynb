{
 "cells": [
  {
   "cell_type": "code",
   "execution_count": 2,
   "id": "f1f9d082-5da1-4d62-898c-9cb075dfe60d",
   "metadata": {},
   "outputs": [
    {
     "name": "stdout",
     "output_type": "stream",
     "text": [
      "[[1 2 3]\n",
      " [4 5 6]]\n"
     ]
    }
   ],
   "source": [
    "import numpy as np\n",
    "A = np.array([[1, 2, 3], [4, 5, 6]])\n",
    "print(A)\n",
    "Af = np.array([1, 2, 3], float)"
   ]
  },
  {
   "cell_type": "code",
   "execution_count": 9,
   "id": "43705920-96e8-44bb-9731-429970c44058",
   "metadata": {},
   "outputs": [
    {
     "name": "stdout",
     "output_type": "stream",
     "text": [
      "[0.  0.2 0.4 0.6 0.8]\n",
      "[0.         2.0943951  4.1887902  6.28318531]\n",
      "[[0. 0. 0.]\n",
      " [0. 0. 0.]]\n"
     ]
    },
    {
     "data": {
      "text/plain": [
       "(2, 3)"
      ]
     },
     "execution_count": 9,
     "metadata": {},
     "output_type": "execute_result"
    }
   ],
   "source": [
    "print(np.arange(0, 1, 0.2))\n",
    "print(np.linspace(0, 2*np.pi, 4))\n",
    "A = np.zeros((2,3))\n",
    "print(A)\n",
    "A.shape"
   ]
  },
  {
   "cell_type": "code",
   "execution_count": 10,
   "id": "c10854b7-4481-4495-b401-44d1645ee69e",
   "metadata": {},
   "outputs": [
    {
     "name": "stdout",
     "output_type": "stream",
     "text": [
      "[[2. 2. 2.]\n",
      " [2. 2. 2.]\n",
      " [2. 2. 2.]]\n"
     ]
    }
   ],
   "source": [
    "A = np.ones((3,3))\n",
    "print(3 * A - 1)"
   ]
  },
  {
   "cell_type": "code",
   "execution_count": 12,
   "id": "ffd7a2f5-51bd-4759-bb39-081211cff5cf",
   "metadata": {},
   "outputs": [
    {
     "name": "stdout",
     "output_type": "stream",
     "text": [
      "6\n",
      "[[1 1 1]\n",
      " [2 2 2]\n",
      " [3 3 3]]\n",
      "6\n"
     ]
    }
   ],
   "source": [
    "u = [1, 2, 3]\n",
    "v = [1, 1, 1]\n",
    "print(np.inner(u, v))\n",
    "print(np.outer(u, v))\n",
    "print(np.dot(u, v))"
   ]
  },
  {
   "cell_type": "code",
   "execution_count": 13,
   "id": "1fad43d8-d291-4916-b521-462b48c3355f",
   "metadata": {},
   "outputs": [
    {
     "name": "stdout",
     "output_type": "stream",
     "text": [
      "[[1. 1.]\n",
      " [1. 1.]\n",
      " [1. 1.]]\n",
      "[[1. 1. 1.]\n",
      " [1. 1. 1.]]\n",
      "[[1. 1. 1.]\n",
      " [1. 1. 1.]]\n"
     ]
    }
   ],
   "source": [
    "A = np.ones((3, 2))\n",
    "print(A)\n",
    "print(A.T)\n",
    "B = np.ones((2, 3))\n",
    "print(B)"
   ]
  },
  {
   "cell_type": "code",
   "execution_count": 3,
   "id": "591e6cdf-817b-49c7-b2c5-9cb5ac1d2e81",
   "metadata": {},
   "outputs": [
    {
     "data": {
      "image/png": "[encoded data removed]",
      "text/plain": [
       "<Figure size 640x480 with 1 Axes>"
      ]
     },
     "metadata": {},
     "output_type": "display_data"
    }
   ],
   "source": [
    "import matplotlib.pyplot as plt\n",
    "x = np.linspace (0, 10, 1000)\n",
    "y = np.power(x, 2)\n",
    "plt.plot(x, y)\n",
    "plt .show()"
   ]
  },
  {
   "cell_type": "code",
   "execution_count": 4,
   "id": "4113f5df-1a08-4f42-8ef9-7b138fd1e64e",
   "metadata": {},
   "outputs": [
    {
     "name": "stdout",
     "output_type": "stream",
     "text": [
      "[ 2.  -0.5]\n"
     ]
    }
   ],
   "source": [
    "A = np.array([[1, 2], [3, 4]])\n",
    "B = np.array([1, 4])\n",
    "from scipy import linalg\n",
    "x = linalg.solve(A, B)\n",
    "print(x)"
   ]
  }
 ],
 "metadata": {
  "kernelspec": {
   "display_name": "Python 3 (ipykernel)",
   "language": "python",
   "name": "python3"
  },
  "language_info": {
   "codemirror_mode": {
    "name": "ipython",
    "version": 3
   },
   "file_extension": ".py",
   "mimetype": "text/x-python",
   "name": "python",
   "nbconvert_exporter": "python",
   "pygments_lexer": "ipython3",
   "version": "3.12.8"
  }
 },
 "nbformat": 4,
 "nbformat_minor": 5
}
